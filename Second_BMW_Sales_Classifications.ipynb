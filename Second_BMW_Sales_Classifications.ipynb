{
 "cells": [
  {
   "cell_type": "code",
   "id": "initial_id",
   "metadata": {
    "collapsed": true,
    "ExecuteTime": {
     "end_time": "2025-09-20T06:32:34.982021Z",
     "start_time": "2025-09-20T06:32:34.818704Z"
    }
   },
   "source": [
    "import pandas as pd\n",
    "import numpy as np\n",
    "from sklearn.model_selection import train_test_split, RandomizedSearchCV\n",
    "from sklearn.preprocessing import OneHotEncoder, StandardScaler, PolynomialFeatures\n",
    "from sklearn.compose import ColumnTransformer\n",
    "from sklearn.pipeline import Pipeline\n",
    "from sklearn.metrics import classification_report, confusion_matrix, roc_auc_score\n",
    "from sklearn.feature_selection import SelectFromModel, mutual_info_classif, SelectKBest\n",
    "from xgboost import XGBClassifier\n",
    "import warnings\n",
    "import os\n",
    "\n",
    "warnings.filterwarnings('ignore')\n",
    "pd.set_option('display.max_rows', None)\n",
    "pd.set_option('display.max_columns', None)"
   ],
   "outputs": [],
   "execution_count": 1
  },
  {
   "metadata": {
    "ExecuteTime": {
     "end_time": "2025-09-20T06:32:42.404101Z",
     "start_time": "2025-09-20T06:32:42.343057Z"
    }
   },
   "cell_type": "code",
   "source": [
    "\n",
    "dataframe = pd.read_csv(r\"D:\\BMW_Car_Sales_Classification.csv\")\n",
    "new_dataframe = dataframe.drop(['Sales_Volume'], axis=1)\n",
    "\n",
    "X = new_dataframe.drop('Sales_Classification', axis=1)\n",
    "y = new_dataframe['Sales_Classification'].map({'High': 1, 'Low': 0})\n",
    "\n",
    "categorical_cols = ['Model', 'Region', 'Color', 'Fuel_Type', 'Transmission']\n",
    "numerical_cols = ['Year', 'Engine_Size_L', 'Mileage_KM', 'Price_USD']\n",
    "\n",
    "\n",
    "poly = PolynomialFeatures(degree=2, interaction_only=True, include_bias=False)\n",
    "X_poly = pd.DataFrame(poly.fit_transform(X[numerical_cols]), columns=poly.get_feature_names_out(numerical_cols))\n"
   ],
   "id": "9090446259077a9a",
   "outputs": [],
   "execution_count": 2
  },
  {
   "metadata": {
    "ExecuteTime": {
     "end_time": "2025-09-20T06:33:00.427166Z",
     "start_time": "2025-09-20T06:32:59.423943Z"
    }
   },
   "cell_type": "code",
   "source": [
    "\n",
    "X_engineered = X.copy()\n",
    "X_engineered['Price_per_Engine_Size'] = X['Price_USD'] / X['Engine_Size_L']\n",
    "X_engineered['Mileage_per_Year'] = X['Mileage_KM'] / (2025 - X['Year'])\n",
    "X_engineered['Is_Newer'] = (X['Year'] >= 2020).astype(int)\n",
    "\n",
    "X_engineered = pd.concat([\n",
    "    X_engineered.drop(columns=numerical_cols),\n",
    "    X_poly,\n",
    "    X_engineered[['Price_per_Engine_Size', 'Mileage_per_Year', 'Is_Newer']] # 添加新工程特征\n",
    "], axis=1)\n",
    "\n",
    "X_engineered = X_engineered.loc[:,~X_engineered.columns.duplicated()]\n",
    "\n",
    "engineered_numerical_cols = [col for col in X_engineered.columns if col not in categorical_cols]\n",
    "engineered_numerical_cols.sort()\n",
    "\n",
    "X_train, X_test, y_train, y_test = train_test_split(\n",
    "    X_engineered, y, test_size=0.2, random_state=42, stratify=y\n",
    ")\n",
    "\n",
    "\n",
    "preprocessor = ColumnTransformer(\n",
    "    transformers=[\n",
    "        ('num', StandardScaler(), engineered_numerical_cols),\n",
    "        ('cat', OneHotEncoder(handle_unknown='ignore', sparse_output=False), categorical_cols)\n",
    "    ],\n",
    "    remainder='passthrough'\n",
    ")\n",
    "\n",
    "feature_selector = SelectFromModel(XGBClassifier(random_state=42, scale_pos_weight=2.28, n_estimators=100))\n",
    "\n",
    "# 预处理， 特征选择 ，XGBoost模型\n",
    "full_pipeline = Pipeline(steps=[\n",
    "    ('preprocessor', preprocessor),\n",
    "    ('feature_selector', feature_selector),\n",
    "    ('classifier', XGBClassifier(\n",
    "        random_state=42,\n",
    "        scale_pos_weight=y_train.value_counts()[0] / y_train.value_counts()[1], # 动态设置不平衡权重\n",
    "        n_estimators=300\n",
    "    ))\n",
    "])\n",
    "\n",
    "full_pipeline.fit(X_train, y_train)\n",
    "\n",
    "y_pred = full_pipeline.predict(X_test)\n",
    "y_pred_proba = full_pipeline.predict_proba(X_test)[:, 1]\n",
    "\n",
    "print(\"XGBoost Pipeline Report (after feature selection):\\n\", classification_report(y_test, y_pred))\n",
    "print(\"\\nXGBoost Pipeline Confusion Matrix:\\n\", confusion_matrix(y_test, y_pred))\n",
    "print(f\"\\nXGBoost Pipeline ROC AUC: {roc_auc_score(y_test, y_pred_proba)}\")"
   ],
   "id": "4e58a0f0b9495617",
   "outputs": [
    {
     "name": "stdout",
     "output_type": "stream",
     "text": [
      "XGBoost Pipeline Report (after feature selection):\n",
      "               precision    recall  f1-score   support\n",
      "\n",
      "           0       0.69      0.65      0.67      6951\n",
      "           1       0.30      0.35      0.32      3049\n",
      "\n",
      "    accuracy                           0.56     10000\n",
      "   macro avg       0.50      0.50      0.50     10000\n",
      "weighted avg       0.57      0.56      0.56     10000\n",
      "\n",
      "\n",
      "XGBoost Pipeline Confusion Matrix:\n",
      " [[4504 2447]\n",
      " [1990 1059]]\n",
      "\n",
      "XGBoost Pipeline ROC AUC: 0.4983191151252791\n"
     ]
    }
   ],
   "execution_count": 3
  },
  {
   "metadata": {
    "ExecuteTime": {
     "end_time": "2025-09-20T06:34:25.118085Z",
     "start_time": "2025-09-20T06:34:02.426085Z"
    }
   },
   "cell_type": "code",
   "source": [
    "\n",
    "param_dist = {\n",
    "    'classifier__learning_rate': [0.01, 0.1, 0.2, 0.3],\n",
    "    'classifier__max_depth': [3, 5, 7, 9],\n",
    "    'classifier__n_estimators': [100, 200, 300],\n",
    "    'classifier__subsample': [0.6, 0.8, 1.0],\n",
    "    'classifier__colsample_bytree': [0.6, 0.8, 1.0],\n",
    "}\n",
    "\n",
    "tuning_pipeline = Pipeline(steps=[\n",
    "    ('preprocessor', preprocessor),\n",
    "    ('classifier', XGBClassifier(\n",
    "        random_state=42,\n",
    "        scale_pos_weight=y_train.value_counts()[0] / y_train.value_counts()[1]\n",
    "    ))\n",
    "])\n",
    "\n",
    "random_search = RandomizedSearchCV(\n",
    "    estimator=tuning_pipeline,\n",
    "    param_distributions=param_dist,\n",
    "    n_iter=10,\n",
    "    scoring='roc_auc',\n",
    "    random_state=42,\n",
    "    n_jobs=-1,\n",
    "    verbose=1\n",
    ")\n",
    "\n",
    "random_search.fit(X_train, y_train)\n",
    "\n",
    "best_pipeline = random_search.best_estimator_\n",
    "y_pred_best = best_pipeline.predict(X_test)\n",
    "y_pred_proba_best = best_pipeline.predict_proba(X_test)[:, 1]\n",
    "\n",
    "print(\"\\nBest Parameters found by RandomizedSearchCV:\", random_search.best_params_)\n",
    "print(\"\\nXGBoost Tuned Report:\\n\", classification_report(y_test, y_pred_best))\n",
    "print(\"\\nXGBoost Tuned Confusion Matrix:\\n\", confusion_matrix(y_test, y_pred_best))\n",
    "print(f\"\\nXGBoost Tuned ROC AUC: {roc_auc_score(y_test, y_pred_proba_best)}\")\n",
    "\n",
    "\n",
    "temp_pipeline = Pipeline(steps=[\n",
    "    ('preprocessor', preprocessor),\n",
    "    ('classifier', XGBClassifier(random_state=42, n_estimators=100))\n",
    "])\n",
    "temp_pipeline.fit(X_train, y_train)\n",
    "\n",
    "\n",
    "encoded_cols = temp_pipeline.named_steps['preprocessor'].get_feature_names_out()\n"
   ],
   "id": "e9618fa7f8671edc",
   "outputs": [
    {
     "name": "stdout",
     "output_type": "stream",
     "text": [
      "Fitting 5 folds for each of 10 candidates, totalling 50 fits\n",
      "\n",
      "Best Parameters found by RandomizedSearchCV: {'classifier__subsample': 0.6, 'classifier__n_estimators': 100, 'classifier__max_depth': 7, 'classifier__learning_rate': 0.3, 'classifier__colsample_bytree': 1.0}\n",
      "\n",
      "XGBoost Tuned Report:\n",
      "               precision    recall  f1-score   support\n",
      "\n",
      "           0       0.69      0.62      0.65      6951\n",
      "           1       0.30      0.38      0.34      3049\n",
      "\n",
      "    accuracy                           0.54     10000\n",
      "   macro avg       0.50      0.50      0.49     10000\n",
      "weighted avg       0.57      0.54      0.56     10000\n",
      "\n",
      "\n",
      "XGBoost Tuned Confusion Matrix:\n",
      " [[4285 2666]\n",
      " [1893 1156]]\n",
      "\n",
      "XGBoost Tuned ROC AUC: 0.4967203776951711\n"
     ]
    }
   ],
   "execution_count": 5
  },
  {
   "metadata": {
    "ExecuteTime": {
     "end_time": "2025-09-20T06:34:47.861596Z",
     "start_time": "2025-09-20T06:34:47.855412Z"
    }
   },
   "cell_type": "code",
   "source": [
    "# 取特征重要性数值\n",
    "importances = temp_pipeline.named_steps['classifier'].feature_importances_\n",
    "feature_importances = pd.Series(importances, index=encoded_cols).sort_values(ascending=False)\n",
    "\n",
    "print(\"\\nTop 20 Features by Importance:\")\n",
    "print(feature_importances.head(20))"
   ],
   "id": "fd28864fdea153df",
   "outputs": [
    {
     "name": "stdout",
     "output_type": "stream",
     "text": [
      "\n",
      "Top 20 Features by Importance:\n",
      "cat__Model_M3                 0.032087\n",
      "cat__Model_X5                 0.030131\n",
      "cat__Model_i8                 0.030003\n",
      "cat__Model_3 Series           0.029549\n",
      "cat__Color_Blue               0.027993\n",
      "cat__Region_Asia              0.027534\n",
      "cat__Model_5 Series           0.026519\n",
      "num__Price_USD                0.026119\n",
      "num__Year Mileage_KM          0.026036\n",
      "cat__Region_South America     0.025537\n",
      "cat__Color_Red                0.025476\n",
      "num__Year Price_USD           0.025475\n",
      "num__Price_per_Engine_Size    0.025255\n",
      "cat__Fuel_Type_Petrol         0.025223\n",
      "num__Year                     0.024560\n",
      "num__Mileage_KM               0.024494\n",
      "cat__Color_White              0.024459\n",
      "num__Mileage_KM Price_USD     0.024238\n",
      "cat__Color_Black              0.024210\n",
      "cat__Region_North America     0.024072\n",
      "dtype: float32\n"
     ]
    }
   ],
   "execution_count": 6
  },
  {
   "metadata": {
    "ExecuteTime": {
     "end_time": "2025-09-20T06:50:39.403355Z",
     "start_time": "2025-09-20T06:50:39.400085Z"
    }
   },
   "cell_type": "code",
   "source": [
    "print(\"第二版的优化思路是先特征工程，然后特征选择，再类别不平衡处理最后做Pipeline然后调参数，但现有特征和目标仍然几乎无关，ROC AUC 都停留在0.5。\"\n",
    "      \"结论是模型问题不大，数据问题比较大。可能性有因为各地政策变化的导致的数据噪声问题，但跟车本身没关系，或者是特征和目标之间的关系太弱，决定销量高低的主要因素并不在这些特征之中。\")"
   ],
   "id": "bd147424797062a6",
   "outputs": [
    {
     "name": "stdout",
     "output_type": "stream",
     "text": [
      "第二版的优化思路是先特征工程，然后特征选择，再类别不平衡处理最后做Pipeline然后调参数，但现有特征和目标仍然几乎无关，ROC AUC 都停留在0.5。结论是模型问题不大，数据问题比较大。可能性有因为各地政策变化的导致的数据噪声问题，但跟车本身没关系，或者是特征和目标之间的关系太弱，决定销量高低的主要因素并不在这些特征之中。\n"
     ]
    }
   ],
   "execution_count": 7
  }
 ],
 "metadata": {
  "kernelspec": {
   "display_name": "Python 3",
   "language": "python",
   "name": "python3"
  },
  "language_info": {
   "codemirror_mode": {
    "name": "ipython",
    "version": 2
   },
   "file_extension": ".py",
   "mimetype": "text/x-python",
   "name": "python",
   "nbconvert_exporter": "python",
   "pygments_lexer": "ipython2",
   "version": "2.7.6"
  }
 },
 "nbformat": 4,
 "nbformat_minor": 5
}
