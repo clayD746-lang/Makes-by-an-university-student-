{
 "nbformat": 4,
 "nbformat_minor": 0,
 "metadata": {
  "colab": {
   "provenance": [],
   "toc_visible": true,
   "gpuType": "V5E1"
  },
  "kernelspec": {
   "name": "python3",
   "display_name": "Python 3"
  },
  "language_info": {
   "name": "python"
  },
  "accelerator": "TPU"
 },
 "cells": [
  {
   "cell_type": "code",
   "metadata": {
    "colab": {
     "base_uri": "https://localhost:8080/"
    },
    "id": "nLZAGn4gEFRH",
    "outputId": "0fda5a85-38b6-4249-fde9-8cca89c2d57e"
   },
   "source": [
    "from google.colab import drive\n",
    "drive.mount('/content/drive')"
   ],
   "outputs": [],
   "execution_count": null
  },
  {
   "cell_type": "code",
   "source": [
    "import pandas as pd\n",
    "\n",
    "csv_path = \"/content/drive/MyDrive/Google AI Studio/metadata.csv\"\n",
    "df = pd.read_csv(csv_path)\n",
    "\n",
    "print(df.head())\n"
   ],
   "metadata": {
    "colab": {
     "base_uri": "https://localhost:8080/"
    },
    "id": "z_WViOIfFDQJ",
    "outputId": "d2ffdc86-00be-4253-f8fc-996b07a5bfd1"
   },
   "outputs": [],
   "execution_count": null
  },
  {
   "cell_type": "code",
   "source": [
    "import zipfile\n",
    "\n",
    "zip_path = \"/content/drive/MyDrive/Colab Notebooks/images.zip\"\n",
    "with zipfile.ZipFile(zip_path, 'r') as zip_ref:\n",
    "    zip_ref.extractall(\"/content/images\")\n"
   ],
   "metadata": {
    "id": "mg9zS2iWFuSk"
   },
   "outputs": [],
   "execution_count": null
  },
  {
   "cell_type": "code",
   "source": [
    "import matplotlib.pyplot as plt\n",
    "import matplotlib.image as mpimg\n",
    "import os\n",
    "\n",
    "image_dir = \"/content/images/images/paper\"\n",
    "img_path = os.path.join(image_dir, os.listdir(image_dir)[0])  # 取第一张图片\n",
    "\n",
    "img = mpimg.imread(img_path)\n",
    "plt.imshow(img)\n",
    "plt.axis(\"off\")\n",
    "plt.show()\n"
   ],
   "metadata": {
    "colab": {
     "base_uri": "https://localhost:8080/",
     "height": 406
    },
    "id": "5yNy6auYHJ6z",
    "outputId": "8ddf6efc-7459-416c-dd37-8d5361e84f03"
   },
   "outputs": [],
   "execution_count": null
  },
  {
   "cell_type": "code",
   "source": [
    "import numpy as np\n",
    "import pandas as pd\n",
    "import matplotlib.pyplot as plt\n",
    "import seaborn as sns\n",
    "\n",
    "import torch\n",
    "import torchvision\n",
    "from torch import nn, optim\n",
    "from torch.utils.data import DataLoader, random_split\n",
    "from torchvision import transforms\n",
    "from torchvision.datasets import ImageFolder\n",
    "from torchvision.utils import make_grid\n",
    "from torch.optim.lr_scheduler import StepLR\n",
    "\n",
    "\n",
    "from sklearn.model_selection import train_test_split\n",
    "from sklearn.metrics import (classification_report, accuracy_score, precision_score,\n",
    "                             recall_score, f1_score, roc_curve, roc_auc_score, confusion_matrix)\n",
    "\n",
    "import os"
   ],
   "metadata": {
    "id": "AeRvaGbEHxP4"
   },
   "outputs": [],
   "execution_count": null
  },
  {
   "cell_type": "code",
   "source": [
    "device = 'cuda' if torch.cuda.is_available() else 'cpu'\n",
    "torch.device(device)"
   ],
   "metadata": {
    "colab": {
     "base_uri": "https://localhost:8080/"
    },
    "id": "MNSdyydLIm0A",
    "outputId": "ed1e1154-2fb2-43e6-cb69-5241b38966da"
   },
   "outputs": [],
   "execution_count": null
  },
  {
   "cell_type": "code",
   "source": [
    "img_transforms = transforms.Compose([\n",
    "    transforms.RandomHorizontalFlip(p=0.5),\n",
    "    transforms.RandomVerticalFlip(p=0.5),\n",
    "    transforms.RandomRotation(degrees=90),\n",
    "    transforms.Resize((200, 200)),\n",
    "    transforms.ToTensor()\n",
    "])"
   ],
   "metadata": {
    "id": "evx8lhbZItIw"
   },
   "outputs": [],
   "execution_count": null
  },
  {
   "cell_type": "code",
   "source": [
    "dataset = ImageFolder(root='/content/images/images', transform=img_transforms)"
   ],
   "metadata": {
    "id": "ClgpuDSULMYZ"
   },
   "outputs": [],
   "execution_count": null
  },
  {
   "cell_type": "code",
   "source": [
    "print(dataset.class_to_idx)"
   ],
   "metadata": {
    "colab": {
     "base_uri": "https://localhost:8080/"
    },
    "id": "ue56dqfuLXj6",
    "outputId": "8c82a2e8-bbb0-4279-abbe-cd894f961d12"
   },
   "outputs": [],
   "execution_count": null
  },
  {
   "cell_type": "code",
   "source": [
    "print(f\"总图片数量: {len(dataset)}\")"
   ],
   "metadata": {
    "colab": {
     "base_uri": "https://localhost:8080/"
    },
    "id": "MZhBkWxHLcFz",
    "outputId": "b60f3a44-4940-431c-9f08-4b0ab1c96569"
   },
   "outputs": [],
   "execution_count": null
  },
  {
   "cell_type": "code",
   "source": [
    "train_size = int(0.7 * len(dataset))\n",
    "val_size = len(dataset) - train_size\n",
    "random_seed = 666\n",
    "generator = torch.Generator().manual_seed(random_seed)\n",
    "\n",
    "train_dataset, val_dataset = random_split(dataset, [train_size, val_size], generator=generator)"
   ],
   "metadata": {
    "id": "B2H1zHs_Lf46"
   },
   "outputs": [],
   "execution_count": null
  },
  {
   "cell_type": "code",
   "source": [
    "print(f\"Training dataset size: {len(train_dataset)}\")\n",
    "print(f\"Validation dataset size: {len(val_dataset)}\")"
   ],
   "metadata": {
    "colab": {
     "base_uri": "https://localhost:8080/"
    },
    "id": "7Tu17AJQL6Ji",
    "outputId": "c7476051-4a41-47c1-a4fc-c39f4627501a"
   },
   "outputs": [],
   "execution_count": null
  },
  {
   "cell_type": "code",
   "source": [
    "batch_size = 32\n",
    "\n",
    "train_loader = DataLoader(train_dataset, batch_size=batch_size, num_workers=4, shuffle=True)\n",
    "val_loader = DataLoader(val_dataset, batch_size=batch_size,num_workers=4, shuffle=False)\n",
    "\n",
    "def visualize(dataloader):\n",
    "\n",
    "    images, labels = next(iter(dataloader))\n",
    "\n",
    "    grid = make_grid(images, nrow=8)\n",
    "\n",
    "    plt.figure(figsize=(13, 13))\n",
    "    plt.imshow(np.transpose(grid, (1, 2, 0)))\n",
    "    plt.axis('off')\n",
    "    plt.show()"
   ],
   "metadata": {
    "colab": {
     "base_uri": "https://localhost:8080/"
    },
    "id": "WpOzdyefL9Gh",
    "outputId": "0ee33389-b191-4bb5-f6fa-ba336787507d"
   },
   "outputs": [],
   "execution_count": null
  },
  {
   "cell_type": "code",
   "source": [
    "visualize(val_loader)"
   ],
   "metadata": {
    "colab": {
     "base_uri": "https://localhost:8080/",
     "height": 338
    },
    "id": "TjMaJtrONyt8",
    "outputId": "5cff65fd-4fd6-4b90-e481-4c14abd627ce"
   },
   "outputs": [],
   "execution_count": null
  },
  {
   "cell_type": "code",
   "source": [
    "class CNN(nn.Module):\n",
    "    def __init__(self, num_classes, dropout_rate):\n",
    "        super(CNN, self).__init__()\n",
    "\n",
    "        self.feature = nn.Sequential(\n",
    "            nn.Conv2d(in_channels=3, out_channels=32, kernel_size=3, padding=1),\n",
    "            nn.BatchNorm2d(32),\n",
    "            nn.ReLU(),\n",
    "\n",
    "            nn.Conv2d(in_channels=32, out_channels=32, kernel_size=3, padding=1),\n",
    "            nn.BatchNorm2d(32),\n",
    "            nn.ReLU(),\n",
    "            nn.MaxPool2d(2, 2),\n",
    "\n",
    "            nn.Conv2d(in_channels=32, out_channels=128, kernel_size=3, padding=1),\n",
    "            nn.BatchNorm2d(128),\n",
    "            nn.ReLU(),\n",
    "            nn.Conv2d(in_channels=128, out_channels=128, kernel_size=3, padding=1),\n",
    "            nn.BatchNorm2d(128),\n",
    "            nn.ReLU(),\n",
    "            nn.MaxPool2d(2, 2),\n",
    "        )\n",
    "        self.gap = nn.AdaptiveAvgPool2d(1)\n",
    "\n",
    "        self.classifier = nn.Sequential(\n",
    "            nn.Flatten(),\n",
    "            nn.Linear(128, 64),\n",
    "            nn.ReLU(),\n",
    "            nn.Dropout(dropout_rate),\n",
    "            nn.Linear(64, num_classes)\n",
    "        )\n",
    "\n",
    "    def forward(self, x):\n",
    "        x = self.feature(x)\n",
    "        x = self.gap(x)\n",
    "        x = self.classifier(x)\n",
    "        return x\n"
   ],
   "metadata": {
    "id": "gjcvvcpiN8mn"
   },
   "outputs": [],
   "execution_count": null
  },
  {
   "cell_type": "code",
   "source": [
    "model = CNN(num_classes=6, dropout_rate=0.4).to(device)\n",
    "\n",
    "optimizer = optim.Adam(model.parameters(),lr=0.0005)\n",
    "loss = nn.CrossEntropyLoss()\n",
    "\n",
    "scheduler = StepLR(optimizer, step_size=4, gamma=0.85)"
   ],
   "metadata": {
    "id": "t3SHuVZeRqD1"
   },
   "outputs": [],
   "execution_count": null
  },
  {
   "cell_type": "code",
   "source": [
    "def train(train_loader):\n",
    "  model.train()\n",
    "  total_loss = total_samples = total_correct = 0\n",
    "  y_true = []\n",
    "  y_pred = []\n",
    "\n",
    "  for images, labels in train_loader:\n",
    "    images, labels = images.to(device), labels.to(device)\n",
    "    optimizer.zero_grad()\n",
    "    outputs = model(images)\n",
    "    loss1 = loss(outputs, labels)\n",
    "    loss1.backward()\n",
    "    torch.nn.utils.clip_grad_norm_(model.parameters(), 1.0)\n",
    "    optimizer.step()\n",
    "\n",
    "    total_loss += loss1.item() * images.size(0)\n",
    "    total_samples += images.size(0)\n",
    "    y_true.append(labels.cpu().numpy())\n",
    "    y_pred.append(torch.argmax(outputs.argmax(dim=1)).cpu().numpy())\n",
    "\n",
    "    correct = (outputs.argmax(dim=1) == labels).sum().item()\n",
    "    total_correct += correct\n",
    "\n",
    "    accuracy = total_correct / total_samples * 100\n",
    "  return total_loss / total_samples, accuracy"
   ],
   "metadata": {
    "id": "OfK98MBwTIa6"
   },
   "outputs": [],
   "execution_count": null
  },
  {
   "cell_type": "code",
   "source": [
    "@torch.no_grad()\n",
    "def val(val_loader):\n",
    "    model.eval()\n",
    "    total_loss = total_samples = total_correct = 0\n",
    "\n",
    "    for images, labels in val_loader:\n",
    "        images, labels = images.to(device), labels.to(device)\n",
    "        outputs = model(images)\n",
    "        loss1 = loss(outputs, labels)\n",
    "\n",
    "        total_loss += loss1.item() * images.size(0)\n",
    "        total_samples += images.size(0)\n",
    "\n",
    "        total_correct += (outputs.argmax(dim=1) == labels).sum().item()\n",
    "\n",
    "    accuracy = total_correct / total_samples * 100\n",
    "    return total_loss / total_samples, accuracy\n"
   ],
   "metadata": {
    "id": "yA7YBCPlUkdB"
   },
   "outputs": [],
   "execution_count": null
  },
  {
   "cell_type": "code",
   "source": [
    "training_loss = []\n",
    "validation_loss = []\n",
    "training_accuracy = []\n",
    "validation_accuracy_list = []\n",
    "\n",
    "epochs = 100\n",
    "\n",
    "for epoch in range(epochs):\n",
    "    train_loss, train_acc = train(train_loader)\n",
    "    scheduler.step()\n",
    "    val_loss, val_acc = val(val_loader)\n",
    "\n",
    "    training_loss.append(train_loss)\n",
    "    validation_loss.append(val_loss)\n",
    "    training_accuracy.append(train_acc)\n",
    "    validation_accuracy_list.append(val_acc)\n",
    "\n",
    "    print(f\"Epoch: {epoch+1}/{epochs} | \"\n",
    "          f\"Train Loss: {train_loss:.4f}, Train Accuracy: {train_acc:.2f}% | \"\n",
    "          f\"Val Loss: {val_loss:.4f}, Val Accuracy: {val_acc:.2f}%\")\n"
   ],
   "metadata": {
    "colab": {
     "base_uri": "https://localhost:8080/"
    },
    "id": "Hjdk7lSjU465",
    "outputId": "cee91863-22cc-43d4-b2af-a7e7a0196cff"
   },
   "outputs": [],
   "execution_count": null
  },
  {
   "cell_type": "code",
   "source": [
    "plt.style.use(\"default\")\n",
    "\n",
    "plt.figure(figsize=(10, 7))\n",
    "\n",
    "plt.plot(range(epochs), training_loss, label='Training Loss',\n",
    "         color='#ffda06', linestyle='-', linewidth=2.2, alpha=1)\n",
    "\n",
    "plt.plot(range(epochs), validation_loss, label='Validation Loss',\n",
    "         color='red', linestyle='--', linewidth=2, alpha=1)\n",
    "\n",
    "plt.xlabel('Epochs', fontsize=14, fontweight='bold', color='#333333')\n",
    "plt.ylabel('Loss', fontsize=14, fontweight='bold', color='#333333')\n",
    "plt.title('Training and Validation Loss', fontsize=17, fontweight='bold', color='#222222')\n",
    "\n",
    "plt.grid(True, linestyle='--', linewidth=0.7, alpha=0.6)\n",
    "\n",
    "plt.legend(loc='upper right', fontsize=13, frameon=False)\n",
    "\n",
    "plt.tight_layout()\n",
    "plt.show()"
   ],
   "metadata": {
    "colab": {
     "base_uri": "https://localhost:8080/",
     "height": 456
    },
    "id": "uz4sQE94VeWw",
    "outputId": "c205750b-84ba-4888-87b5-7b8191442a6f"
   },
   "outputs": [],
   "execution_count": null
  },
  {
   "cell_type": "code",
   "source": [
    "@torch.no_grad()\n",
    "def eval(loader):\n",
    "    model.eval()\n",
    "    preds, trues = [], []\n",
    "\n",
    "    for images, labels in loader:\n",
    "        images = images.to(device)\n",
    "        labels = labels.to(device)\n",
    "\n",
    "        outputs = model(images)\n",
    "\n",
    "        probs = torch.softmax(outputs, dim=1)\n",
    "        preds.append(probs.cpu())\n",
    "        trues.append(labels.cpu())\n",
    "\n",
    "    preds = torch.cat(preds).numpy()\n",
    "    trues = torch.cat(trues).numpy()\n",
    "\n",
    "    predicted_classes = preds.argmax(axis=1)\n",
    "\n",
    "    df_result = pd.DataFrame({\n",
    "        'actual': trues,\n",
    "        'probability': list(preds),\n",
    "        'pred': predicted_classes\n",
    "    })\n",
    "    return df_result"
   ],
   "metadata": {
    "id": "LBVqt_rsdFXG"
   },
   "outputs": [],
   "execution_count": null
  },
  {
   "cell_type": "code",
   "source": [
    "\n",
    "val_res = eval(val_loader)\n",
    "class_names = dataset.classes\n",
    "print(classification_report(val_res['actual'], val_res['pred'], target_names=class_names))"
   ],
   "metadata": {
    "colab": {
     "base_uri": "https://localhost:8080/"
    },
    "id": "6QtWxjL8dXMV",
    "outputId": "3dd99b40-62d8-44c7-ee48-ab38ecd79000"
   },
   "outputs": [],
   "execution_count": null
  },
  {
   "cell_type": "code",
   "source": [
    "ConfusionMatrix = confusion_matrix(val_res['actual'], val_res['pred'])\n",
    "\n",
    "plt.figure(figsize=(10, 7))\n",
    "\n",
    "sns.heatmap(ConfusionMatrix, annot=True, fmt='d', xticklabels=class_names, yticklabels=class_names, cmap='viridis')\n",
    "\n",
    "plt.title('Confusion Matrix')\n",
    "plt.xlabel('Predicted Labels')\n",
    "plt.ylabel('True Labels')\n",
    "\n",
    "plt.show()"
   ],
   "metadata": {
    "colab": {
     "base_uri": "https://localhost:8080/",
     "height": 517
    },
    "id": "LqmJYbdAdcBK",
    "outputId": "7fc8d2a5-77ea-4676-f0ab-bc4fc0f8e865"
   },
   "outputs": [],
   "execution_count": null
  },
  {
   "cell_type": "code",
   "source": [],
   "metadata": {
    "id": "UUZ-blytdz36"
   },
   "outputs": [],
   "execution_count": null
  }
 ]
}
